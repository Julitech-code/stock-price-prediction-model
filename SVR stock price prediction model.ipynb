import numpy as np
import pandas as pd
import matplotlib.pyplot as plt
from sklearn.preprocessing import StandardScaler
from sklearn.svm import SVR
from sklearn.model_selection import train_test_split, GridSearchCV
from sklearn.metrics import mean_squared_error, r2_score
import yfinance as yf
import math

def predict_stock_price_svr(ticker='AAPL', look_back_days=30, test_size=0.2):
    """
    Predicts stock prices using a Support Vector Regression (SVR) model.

    Args:
        ticker (str): Stock ticker symbol (e.g., 'AAPL' for Apple).
        look_back_days (int): Number of previous days' closing prices to use as features.
        test_size (float): Proportion of the dataset to include in the test split.

    Returns:
        tuple: A tuple containing the predicted prices (numpy array) and
               the historical data (pandas DataFrame).
               Returns None if there is an error during data retrieval.
    """
    print(f"--- Starting SVR Stock Price Prediction for {ticker} ---")

    try:
        # 1. Download Data
        print("Downloading historical stock data...")
        df = yf.download(ticker, period="5y") # Get 5 years of historical data
        if df.empty:
            print(f"Error: Could not download data for {ticker}. Please check the ticker symbol.")
            return None, None

        # Use only the 'Close' price for prediction
        data = df[['Close']]

        # 2. Feature Engineering: Create lagged features
        # We'll use the past 'look_back_days' closing prices to predict the next day's closing price.
        print(f"Creating lagged features with a look-back of {look_back_days} days...")
        for i in range(1, look_back_days + 1):
            data[f'Close_Lag_{i}'] = data['Close'].shift(i)

        # Drop rows with NaN values created by shifting
        data.dropna(inplace=True)

        # Define features (X) and target (y)
        # X will be the lagged closing prices, y will be the current closing price
        X = data.drop('Close', axis=1).values
        y = data['Close'].values

        print(f"Data prepared: {len(X)} samples for training/testing.")

        # 3. Data Scaling
        # SVR is sensitive to the scale of the data, so standardization is important.
        print("Scaling data...")
        scaler_X = StandardScaler()
        scaler_y = StandardScaler() # We need a separate scaler for the target variable

        X_scaled = scaler_X.fit_transform(X)
        y_scaled = scaler_y.fit_transform(y.reshape(-1, 1)) # Reshape y to 2D for scaler

        # 4. Split Data into Training and Testing Sets
        # Use a common split ratio, e.g., 80% for training, 20% for testing.
        # For time series, a sequential split is often preferred, but train_test_split
        # is used here for simplicity in a non-sequential feature context.
        X_train, X_test, y_train, y_test = train_test_split(X_scaled, y_scaled, test_size=test_size, random_state=42)

        print(f"Dataset split: Training samples = {len(X_train)}, Testing samples = {len(X_test)}")

        # 5. Build and Train SVR Model
        print("Building and training SVR model...")
        # You can tune C, epsilon, and kernel. RBF kernel is common for non-linear data.
        # For a more robust model, use GridSearchCV to find optimal hyperparameters.
        # Example for GridSearchCV (uncomment to use, can be slow):
        # param_grid = {
        #     'C': [0.1, 1, 10, 100],
        #     'epsilon': [0.01, 0.1, 0.5],
        #     'kernel': ['rbf']
        # }
        # svr = GridSearchCV(SVR(), param_grid, cv=3, verbose=2, n_jobs=-1)
        # svr.fit(X_train, y_train.ravel()) # .ravel() converts y_train to 1D array
        # model = svr.best_estimator_
        # print(f"Best SVR parameters: {svr.best_params_}")

        # Using default SVR for simplicity, or parameters found from GridSearchCV
        model = SVR(kernel='rbf', C=100, epsilon=0.1)
        model.fit(X_train, y_train.ravel()) # .ravel() converts y_train to 1D array

        print("SVR model training complete.")

        # 6. Make Predictions and Evaluate Model
        print("Making predictions on test data and evaluating model...")
        predictions_scaled = model.predict(X_test)

        # Inverse transform predictions and actual values to original scale
        predictions_original = scaler_y.inverse_transform(predictions_scaled.reshape(-1, 1))
        y_test_original = scaler_y.inverse_transform(y_test.reshape(-1, 1))

        # Evaluate the model
        mse = mean_squared_error(y_test_original, predictions_original)
        rmse = math.sqrt(mse)
        r2 = r2_score(y_test_original, predictions_original)

        print(f"Mean Squared Error (MSE): {mse:.2f}")
        print(f"Root Mean Squared Error (RMSE): {rmse:.2f}")
        print(f"R-squared (R2): {r2:.2f}")

        # 7. Visualize Actual vs. Predicted Prices on Test Set
        plt.figure(figsize=(15, 7))
        # Adjusting index for plotting to match original dates
        # The test set starts after the training set and the look_back_days offset
        plot_start_index = len(df) - len(y_test_original)
        plt.plot(df.index[plot_start_index:], y_test_original, label='Actual Close Price', color='blue', alpha=0.7)
        plt.plot(df.index[plot_start_index:], predictions_original, label='Predicted Close Price (Test Set)', color='red', linestyle='--')
        plt.title(f'{ticker} Stock Price Prediction (Test Set) - SVR')
        plt.xlabel('Date')
        plt.ylabel('Close Price (USD)')
        plt.legend()
        plt.grid(True)
        plt.tight_layout()
        plt.show()

        # 8. Predict the very next day's price (simple example)
        print("\nPredicting the very next trading day's price...")
        # Get the last 'look_back_days' closing prices from the original dataframe
        last_known_prices = df['Close'].tail(look_back_days).values.reshape(1, -1)

        # Scale these last known prices using the same scaler_X
        last_known_prices_scaled = scaler_X.transform(last_known_prices)

        # Predict the next price
        next_day_prediction_scaled = model.predict(last_known_prices_scaled)
        next_day_prediction_original = scaler_y.inverse_transform(next_day_prediction_scaled.reshape(-1, 1))[0, 0]

        last_historical_date = df.index[-1]
        next_trading_date = last_historical_date + pd.Timedelta(days=1)
        # Handle weekends/holidays: find the next actual trading day
        while next_trading_date.weekday() > 4 or next_trading_date in df.index: # 0-4 are Mon-Fri
            next_trading_date += pd.Timedelta(days=1)

        print(f"Predicted Close Price for {next_trading_date.strftime('%Y-%m-%d')}: {next_day_prediction_original:.2f} USD")

        return predictions_original, df

    except Exception as e:
        print(f"An error occurred: {e}")
        return None, None

# --- Example Usage ---
if __name__ == '__main__':
    # Predict Apple stock price using SVR
    predicted_prices, historical_data = predict_stock_price_svr(
        ticker='AAPL',
        look_back_days=30, # Use past 30 days' data as features
        test_size=0.2      # 20% of data for testing
    )

    if predicted_prices is not None:
        print("\n--- SVR Prediction Complete ---")
        print("Please review the predicted prices and plots above.")
        print("Remember that stock price prediction is inherently challenging,")
        print("and this model is a simplified demonstration.")

def get_next_day_prediction(ticker='AAPL', look_back_days=30):
    """
    Gets the predicted next day's stock price using the SVR model.

    Args:
        ticker (str): Stock ticker symbol.
        look_back_days (int): Number of previous days' closing prices to use.

    Returns:
        str: A message with the predicted next day's price or an error message.
    """
    predictions, data = predict_stock_price_svr(ticker, look_back_days)

    if predictions is not None and data is not None:
        # We need to re-run the last part of predict_stock_price_svr
        # to get the next day's prediction as it's not returned directly
        try:
            # Get the last 'look_back_days' closing prices from the original dataframe
            last_known_prices = data['Close'].tail(look_back_days).values.reshape(1, -1)

            # Re-fit scalers on the full dataset (this is important for consistency)
            # In a real application, you might want to save/load scalers
            scaler_X = StandardScaler()
            scaler_y = StandardScaler()

            # Prepare data for fitting scalers - need to replicate the feature engineering
            temp_data = data[['Close']].copy()
            for i in range(1, look_back_days + 1):
                temp_data[f'Close_Lag_{i}'] = temp_data['Close'].shift(i)
            temp_data.dropna(inplace=True)

            X_full = temp_data.drop('Close', axis=1).values
            y_full = temp_data['Close'].values.reshape(-1, 1)

            scaler_X.fit(X_full)
            scaler_y.fit(y_full)

            # Scale the last known prices
            last_known_prices_scaled = scaler_X.transform(last_known_prices)

            # Re-train the model on the full dataset before predicting the next day
            # This ensures the model uses all available data for the latest prediction
            # In a production system, you would save and load the trained model
            X_scaled_full = scaler_X.transform(X_full)
            y_scaled_full = scaler_y.transform(y_full)

            model = SVR(kernel='rbf', C=100, epsilon=0.1) # Use the same hyperparameters
            model.fit(X_scaled_full, y_scaled_full.ravel())

            # Predict the next price
            next_day_prediction_scaled = model.predict(last_known_prices_scaled)
            next_day_prediction_original = scaler_y.inverse_transform(next_day_prediction_scaled.reshape(-1, 1))[0, 0]

            last_historical_date = data.index[-1]
            next_trading_date = last_historical_date + pd.Timedelta(days=1)
            # Handle weekends/holidays: find the next actual trading day
            while next_trading_date.weekday() > 4 or next_trading_date in data.index: # 0-4 are Mon-Fri
                next_trading_date += pd.Timedelta(days=1)


            return f"Predicted Close Price for {next_trading_date.strftime('%Y-%m-%d')}: {next_day_prediction_original:.2f} USD"

        except Exception as e:
            return f"An error occurred during next day prediction: {e}"

    else:
        return "Could not retrieve data or make prediction. Please check the ticker symbol."

import gradio as gr

# Create the Gradio interface
iface = gr.Interface(
    fn=get_next_day_prediction,
    inputs=[
        gr.Textbox(label="Stock Ticker Symbol", value='AAPL'),
        gr.Slider(minimum=10, maximum=100, step=1, value=30, label="Look Back Days")
    ],
    outputs="text",
    title="Stock Price Prediction using SVR",
    description="Enter a stock ticker symbol and the number of look back days to predict the next day's closing price using an SVR model."
)

# Launch the interface
iface.launch(debug=True)
